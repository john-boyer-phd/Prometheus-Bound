{
 "cells": [
  {
   "cell_type": "code",
   "execution_count": 1,
   "metadata": {},
   "outputs": [],
   "source": [
    "# It will be useful to have math functions like sqrt() and erf()\n",
    "from math import *\n",
    "\n",
    "# This import is needed for norm.cdf() and norm.pdf()\n",
    "from scipy.stats import norm"
   ]
  },
  {
   "cell_type": "code",
   "execution_count": 2,
   "metadata": {},
   "outputs": [
    {
     "data": {
      "text/plain": [
       "array([0.15865525, 0.84134475, 0.97724987, 0.99018467, 0.99533881,\n",
       "       0.99616962, 0.9979259 , 0.9986501 , 0.9989177 , 0.99996833])"
      ]
     },
     "execution_count": 2,
     "metadata": {},
     "output_type": "execute_result"
    }
   ],
   "source": [
    "# For IQs scaled to mu=100, sigma=15, this line of code shows the\n",
    "# percentiles for IQs at -1 sigma, +1 sigma, +2 sigma, 99th percentile, \n",
    "# 99.5th percentile, +3 sigma, 99.9th percentile, and +4 sigma\n",
    "norm.cdf([85, 115, 130, 135, 139, 140, 143, 145, 146, 160], 100, 15)"
   ]
  },
  {
   "cell_type": "code",
   "execution_count": 3,
   "metadata": {},
   "outputs": [
    {
     "name": "stdout",
     "output_type": "stream",
     "text": [
      "Percentile for 1 in 30000= 0.9999666666666667\n",
      "Percentile for 4 sigma:  0.9999683287581669\n",
      "Direct percentile stated: 0.99997\n"
     ]
    }
   ],
   "source": [
    "# The Prometheus Society website \"equates\" 1 in 30,000 selectivity, \n",
    "# 4 sigma in the unselected population (160 IQ), and the 99.997th percentile. \n",
    "print(\"Percentile for 1 in 30000=\", 1 - 1/30000)\n",
    "print(\"Percentile for 4 sigma: \", norm.cdf(160, 100, 15))\n",
    "print(\"Direct percentile stated: 0.99997\")"
   ]
  },
  {
   "cell_type": "code",
   "execution_count": 4,
   "metadata": {},
   "outputs": [
    {
     "name": "stdout",
     "output_type": "stream",
     "text": [
      "Precision target: 3.3333333333551707e-06\n"
     ]
    }
   ],
   "source": [
    "# The precision target we use is the range of the highest to lowest values \"equated\" by Prometheus Society.\n",
    "print(\"Precision target:\", 0.99997 - (1-1/30000))"
   ]
  },
  {
   "cell_type": "code",
   "execution_count": 5,
   "metadata": {},
   "outputs": [],
   "source": [
    "def search_for_mean_and_SD(a, F_a, b, F_b):\n",
    "    # Initial state of having not found the mean and sd that  \n",
    "    # A) has the closest match of F_a and CDF(mean, sd, a), and then\n",
    "    # B) produces the closest match between F_b and CDF(mean, sd, b)\n",
    "    best_mean_found = 0\n",
    "    best_sd_found = 0\n",
    "    best_precision_found = 1\n",
    "\n",
    "    # Loop through a range of candidate mean values\n",
    "    for mean in range(200, 400+1):\n",
    "        # Find the SD that minimizes the difference between F_a and CDF(mean, SD, a)\n",
    "        best_sd = 15-1\n",
    "        for sd in range(15, 40+1):\n",
    "            if (abs(norm.cdf(a, mean, sd) - F_a) < abs(norm.cdf(a, mean, best_sd) - F_a)):\n",
    "                best_sd = sd\n",
    "                \n",
    "        # And then remember the one that also minmizes the difference between F_b and CDF(mean, SD, b)\n",
    "        if (abs(norm.cdf(b, mean, best_sd) - F_b) < abs(best_precision_found)):\n",
    "            best_precision_found = norm.cdf(b, mean, best_sd) - F_b\n",
    "            best_mean_found = mean\n",
    "            best_sd_found = best_sd\n",
    "    \n",
    "    # Print what we found\n",
    "    return [best_mean_found, best_sd_found]"
   ]
  },
  {
   "cell_type": "code",
   "execution_count": 6,
   "metadata": {},
   "outputs": [],
   "source": [
    "def print_results(results, a, F_a, b, F_b):\n",
    "    mean_found = results[0]\n",
    "    sd_found = results[1]\n",
    "    if (mean_found > 0):\n",
    "        print(\"Best match mean=\", mean_found, \"and SD=\", sd_found)\n",
    "        print(\"Precision on lower bound= \", abs(F_a - norm.cdf(a, mean_found, sd_found)))\n",
    "        print(\"Precision on upper bound= \", abs(F_b - norm.cdf(b, mean_found, sd_found)))\n",
    "    else:\n",
    "        print(\"Answer not found in grid search\")    "
   ]
  },
  {
   "cell_type": "code",
   "execution_count": 7,
   "metadata": {},
   "outputs": [],
   "source": [
    "results = search_for_mean_and_SD(455, 0.995, 472, 0.999)"
   ]
  },
  {
   "cell_type": "code",
   "execution_count": 8,
   "metadata": {},
   "outputs": [
    {
     "name": "stdout",
     "output_type": "stream",
     "text": [
      "Best match mean= 370 and SD= 33\n",
      "Precision on lower bound=  1.0372612480047394e-06\n",
      "Precision on upper bound=  2.276413712087866e-06\n"
     ]
    }
   ],
   "source": [
    "# Note that the results are better than the precision target calculated above\n",
    "print_results(results, 455, 0.995, 472, 0.999)"
   ]
  },
  {
   "cell_type": "code",
   "execution_count": 9,
   "metadata": {},
   "outputs": [
    {
     "data": {
      "text/plain": [
       "array([0.97724987, 0.97883713, 0.98032968, 0.99018467, 0.99499896,\n",
       "       0.99616962, 0.99650132, 0.99800397, 0.99900228, 0.99995916,\n",
       "       0.99996833, 0.99997215])"
      ]
     },
     "execution_count": 9,
     "metadata": {},
     "output_type": "execute_result"
    }
   ],
   "source": [
    "norm.cdf([436, 437, 438, 447, 455, 458, 459, 465, 472, 500, 502, 503], 370, 33)"
   ]
  },
  {
   "cell_type": "code",
   "execution_count": 10,
   "metadata": {},
   "outputs": [
    {
     "name": "stdout",
     "output_type": "stream",
     "text": [
      "Percentile= 0.9999591561478585\n",
      "Selectivity= 1 in  24483.488886765368\n"
     ]
    }
   ],
   "source": [
    "# Selectivity of MAT 500 given the best fit mean=370, SD=33\n",
    "print(\"Percentile=\", norm.cdf(500, 370, 33))\n",
    "print(\"Selectivity= 1 in \", 1 / (1 - norm.cdf(500, 370, 33)))"
   ]
  },
  {
   "cell_type": "code",
   "execution_count": 11,
   "metadata": {},
   "outputs": [
    {
     "name": "stdout",
     "output_type": "stream",
     "text": [
      "Percentile= 0.9999640179519671\n",
      "Selectivity= 1 in  27791.636515120783\n"
     ]
    }
   ],
   "source": [
    "# Selectivity of MAT 501 given the best fit mean=370, SD=33\n",
    "print(\"Percentile=\", norm.cdf(501, 370, 33))\n",
    "print(\"Selectivity= 1 in \", 1 / (1 - norm.cdf(501, 370, 33)))"
   ]
  },
  {
   "cell_type": "code",
   "execution_count": 12,
   "metadata": {},
   "outputs": [
    {
     "name": "stdout",
     "output_type": "stream",
     "text": [
      "Percentile= 0.9999683287581669\n",
      "Selectivity= 1 in  31574.385534647936\n"
     ]
    }
   ],
   "source": [
    "# Selectivity of MAT 502 given the best fit mean=370, SD=33\n",
    "print(\"Percentile=\", norm.cdf(502, 370, 33))\n",
    "print(\"Selectivity= 1 in \", 1 / (1 - norm.cdf(502, 370, 33)))"
   ]
  },
  {
   "cell_type": "markdown",
   "metadata": {},
   "source": [
    "### The 2006 MAT Curve (blue) and the Unselected Population Curve Model (yellow)"
   ]
  },
  {
   "cell_type": "code",
   "execution_count": 13,
   "metadata": {},
   "outputs": [],
   "source": [
    "from matplotlib import pyplot as plt\n",
    "from scipy.stats import norm\n",
    "import numpy as np"
   ]
  },
  {
   "cell_type": "code",
   "execution_count": 14,
   "metadata": {},
   "outputs": [
    {
     "data": {
      "image/png": "[encoded data removed]",
      "text/plain": [
       "<Figure size 432x288 with 1 Axes>"
      ]
     },
     "metadata": {},
     "output_type": "display_data"
    }
   ],
   "source": [
    "x = np.linspace(275, 525, 250)\n",
    "for mu, sig in [(400, 25),(370, 33)]:\n",
    "    plt.plot(x, norm.pdf(x, mu, sig))\n",
    "\n",
    "plt.show()"
   ]
  },
  {
   "cell_type": "markdown",
   "metadata": {},
   "source": [
    "Zoom-in on the region where they intersect to show virtual convergence of the two curves in the region around the score of 500. A more exact analysis appears below in the CDF Convergence section."
   ]
  },
  {
   "cell_type": "code",
   "execution_count": 15,
   "metadata": {},
   "outputs": [
    {
     "data": {
      "image/png": "[encoded data removed]",
      "text/plain": [
       "<Figure size 432x288 with 1 Axes>"
      ]
     },
     "metadata": {},
     "output_type": "display_data"
    }
   ],
   "source": [
    "x = np.linspace(485, 515, 100)\n",
    "for mu, sig in [(400, 25), (370, 33)]:\n",
    "    plt.plot(x, norm.pdf(x, mu, sig))\n",
    "\n",
    "plt.show()"
   ]
  },
  {
   "cell_type": "markdown",
   "metadata": {},
   "source": [
    "### The 2017-18 MAT Curve (blue) and the Unselected Population Curve Model(yellow)"
   ]
  },
  {
   "cell_type": "code",
   "execution_count": 16,
   "metadata": {},
   "outputs": [
    {
     "data": {
      "image/png": "[encoded data removed]",
      "text/plain": [
       "<Figure size 432x288 with 1 Axes>"
      ]
     },
     "metadata": {},
     "output_type": "display_data"
    }
   ],
   "source": [
    "x = np.linspace(275, 525, 250)\n",
    "for mu, sig in [(396, 26), (370, 33)]:\n",
    "    plt.plot(x, norm.pdf(x, mu, sig))\n",
    "\n",
    "plt.show()"
   ]
  },
  {
   "cell_type": "markdown",
   "metadata": {},
   "source": [
    "Zoom-in on the region where they intersect to show virtual convergence of the two curves in the region around the score of 500. A more exact analysis appears below in the CDF Convergence section."
   ]
  },
  {
   "cell_type": "code",
   "execution_count": 17,
   "metadata": {},
   "outputs": [
    {
     "data": {
      "image/png": "[encoded data removed]",
      "text/plain": [
       "<Figure size 432x288 with 1 Axes>"
      ]
     },
     "metadata": {},
     "output_type": "display_data"
    }
   ],
   "source": [
    "x = np.linspace(485, 515, 100)\n",
    "for mu, sig in [(396, 26), (370, 33)]:\n",
    "    plt.plot(x, norm.pdf(x, mu, sig))\n",
    "\n",
    "plt.show()"
   ]
  },
  {
   "cell_type": "markdown",
   "metadata": {},
   "source": [
    "## CDF Convergence\n",
    "The unselected population cumulative distribution or percentile (yellow) intersects with the 2006 MAT cumulative distribution / percentile (blue) at 493.75. After that intersection, the MAT percentile is actually less stringent than the unselected population. To see this, note that the blue line is higher after the intersection point, so the same score along the horizontal axis maps to a higher cumulative percentile than the yellow line representing the unselected population percentiles. This is why a slightly higher score of 502 is required to get the same unselected population percentile as the score of 500 gets in the MAT test taker population. Specifically, at 502, the yellow line of the unselected population rises to the percentile value where the blue line of the MAT population curve was at 500."
   ]
  },
  {
   "cell_type": "code",
   "execution_count": 18,
   "metadata": {},
   "outputs": [
    {
     "data": {
      "image/png": "[encoded data removed]",
      "text/plain": [
       "<Figure size 432x288 with 1 Axes>"
      ]
     },
     "metadata": {},
     "output_type": "display_data"
    }
   ],
   "source": [
    "x = np.linspace(485, 515, 100)\n",
    "for mu, sig in [(400, 25), (370, 33)]:\n",
    "    plt.plot(x, norm.cdf(x, mu, sig))\n",
    "\n",
    "plt.show()"
   ]
  },
  {
   "cell_type": "code",
   "execution_count": 19,
   "metadata": {},
   "outputs": [
    {
     "name": "stdout",
     "output_type": "stream",
     "text": [
      "Convergence at 493.75:  0.9999115827147992 0.9999115827147992\n"
     ]
    }
   ],
   "source": [
    "print(\"Convergence at 493.75: \", norm.cdf(493.75, 400, 25), norm.cdf(493.75, 370, 33))"
   ]
  },
  {
   "cell_type": "code",
   "execution_count": 20,
   "metadata": {},
   "outputs": [
    {
     "data": {
      "text/plain": [
       "0.9999683287581669"
      ]
     },
     "execution_count": 20,
     "metadata": {},
     "output_type": "execute_result"
    }
   ],
   "source": [
    "# On blue curve, the MAT test takers reach ~99.997th percentile at 500, but...\n",
    "norm.cdf(500, 400, 25)"
   ]
  },
  {
   "cell_type": "code",
   "execution_count": 21,
   "metadata": {},
   "outputs": [
    {
     "data": {
      "text/plain": [
       "0.9999683287581669"
      ]
     },
     "execution_count": 21,
     "metadata": {},
     "output_type": "execute_result"
    }
   ],
   "source": [
    "# The unselected population curve in yellow is more stringent after the score of 493.75. \n",
    "# So, a member of the unselected population reaches the ~99.997th percentile only at 502.\n",
    "norm.cdf(502, 370, 33)"
   ]
  },
  {
   "cell_type": "markdown",
   "metadata": {},
   "source": [
    "The 2017-18 MAT curve (blue) also reaches 4 sigma at a score of 500 exactly, but this curve also intersects the unselected population percentile curve near the same location, at around 492 and 4/7ths, and thereafter is also less stringent, i.e. a given MAT score has a higher percentile in the MAT population than in the unselected population after the intersection.  "
   ]
  },
  {
   "cell_type": "code",
   "execution_count": 22,
   "metadata": {},
   "outputs": [
    {
     "data": {
      "image/png": "[encoded data removed]",
      "text/plain": [
       "<Figure size 432x288 with 1 Axes>"
      ]
     },
     "metadata": {},
     "output_type": "display_data"
    }
   ],
   "source": [
    "x = np.linspace(485, 515, 100)\n",
    "for mu, sig in [(396, 26), (370, 33)]:\n",
    "    plt.plot(x, norm.cdf(x, mu, sig))\n",
    "\n",
    "plt.show()"
   ]
  },
  {
   "cell_type": "code",
   "execution_count": 23,
   "metadata": {},
   "outputs": [
    {
     "data": {
      "text/plain": [
       "0.9999683287581669"
      ]
     },
     "execution_count": 23,
     "metadata": {},
     "output_type": "execute_result"
    }
   ],
   "source": [
    "# MAT test takers reach ~99.997th percentile at 500, but...\n",
    "norm.cdf(500, 396, 26)"
   ]
  },
  {
   "cell_type": "code",
   "execution_count": 24,
   "metadata": {},
   "outputs": [
    {
     "data": {
      "text/plain": [
       "0.9999683287581669"
      ]
     },
     "execution_count": 24,
     "metadata": {},
     "output_type": "execute_result"
    }
   ],
   "source": [
    "# As before, a member of the unselected population reaches the ~99.997th percentile at 502.\n",
    "norm.cdf(502, 370, 33)"
   ]
  },
  {
   "cell_type": "code",
   "execution_count": 25,
   "metadata": {},
   "outputs": [
    {
     "data": {
      "text/plain": [
       "0.9998981107702193"
      ]
     },
     "execution_count": 25,
     "metadata": {},
     "output_type": "execute_result"
    }
   ],
   "source": [
    "norm.cdf(492.57142857143, 396, 26)"
   ]
  },
  {
   "cell_type": "code",
   "execution_count": 26,
   "metadata": {},
   "outputs": [
    {
     "data": {
      "text/plain": [
       "0.9998981107702193"
      ]
     },
     "execution_count": 26,
     "metadata": {},
     "output_type": "execute_result"
    }
   ],
   "source": [
    "norm.cdf(492.57142857143, 370, 33)"
   ]
  },
  {
   "cell_type": "markdown",
   "metadata": {},
   "source": [
    "## Intertel"
   ]
  },
  {
   "cell_type": "code",
   "execution_count": 27,
   "metadata": {},
   "outputs": [
    {
     "data": {
      "text/plain": [
       "0.9901846713713547"
      ]
     },
     "execution_count": 27,
     "metadata": {},
     "output_type": "execute_result"
    }
   ],
   "source": [
    "norm.cdf(135, 100, 15)"
   ]
  },
  {
   "cell_type": "code",
   "execution_count": 28,
   "metadata": {},
   "outputs": [
    {
     "data": {
      "text/plain": [
       "0.9901846713713547"
      ]
     },
     "execution_count": 28,
     "metadata": {},
     "output_type": "execute_result"
    }
   ],
   "source": [
    "norm.cdf(447, 370, 33)"
   ]
  },
  {
   "cell_type": "markdown",
   "metadata": {},
   "source": [
    "## IIS"
   ]
  },
  {
   "cell_type": "code",
   "execution_count": 29,
   "metadata": {},
   "outputs": [
    {
     "data": {
      "text/plain": [
       "0.9961696194324102"
      ]
     },
     "execution_count": 29,
     "metadata": {},
     "output_type": "execute_result"
    }
   ],
   "source": [
    "norm.cdf(140, 100, 15)"
   ]
  },
  {
   "cell_type": "code",
   "execution_count": 30,
   "metadata": {},
   "outputs": [
    {
     "data": {
      "text/plain": [
       "array([0.99616962, 0.99650132])"
      ]
     },
     "execution_count": 30,
     "metadata": {},
     "output_type": "execute_result"
    }
   ],
   "source": [
    "norm.cdf([458, 459], 370, 33)"
   ]
  },
  {
   "cell_type": "markdown",
   "metadata": {},
   "source": [
    "## ePiq"
   ]
  },
  {
   "cell_type": "code",
   "execution_count": 31,
   "metadata": {},
   "outputs": [
    {
     "data": {
      "text/plain": [
       "0.9979259016364059"
      ]
     },
     "execution_count": 31,
     "metadata": {},
     "output_type": "execute_result"
    }
   ],
   "source": [
    "norm.cdf(143, 100, 15)"
   ]
  },
  {
   "cell_type": "code",
   "execution_count": 32,
   "metadata": {},
   "outputs": [
    {
     "data": {
      "text/plain": [
       "0.9980039662714417"
      ]
     },
     "execution_count": 32,
     "metadata": {},
     "output_type": "execute_result"
    }
   ],
   "source": [
    "norm.cdf(465, 370, 33)"
   ]
  },
  {
   "cell_type": "markdown",
   "metadata": {},
   "source": [
    "## Mensa"
   ]
  },
  {
   "cell_type": "code",
   "execution_count": 33,
   "metadata": {},
   "outputs": [
    {
     "data": {
      "text/plain": [
       "0.9772498680518208"
      ]
     },
     "execution_count": 33,
     "metadata": {},
     "output_type": "execute_result"
    }
   ],
   "source": [
    "norm.cdf(130, 100, 15)"
   ]
  },
  {
   "cell_type": "code",
   "execution_count": 34,
   "metadata": {},
   "outputs": [
    {
     "data": {
      "text/plain": [
       "array([0.97724987, 0.97883713, 0.98032968])"
      ]
     },
     "execution_count": 34,
     "metadata": {},
     "output_type": "execute_result"
    }
   ],
   "source": [
    "norm.cdf([436, 437, 438], 370, 33)"
   ]
  },
  {
   "cell_type": "markdown",
   "metadata": {},
   "source": [
    "## PDF/CDF/Calculus Diagram"
   ]
  },
  {
   "cell_type": "code",
   "execution_count": 35,
   "metadata": {},
   "outputs": [
    {
     "data": {
      "image/png": "[encoded data removed]",
      "text/plain": [
       "<Figure size 432x288 with 1 Axes>"
      ]
     },
     "metadata": {},
     "output_type": "display_data"
    }
   ],
   "source": [
    "plt.xticks([40,55, 70, 85, 100, 115, 130, 145, 160])\n",
    "for x in range(100*4, 115*4):\n",
    "    plt.axvline(x/4, ymin=0.055, \n",
    "                ymax=0.955*norm.pdf(x/4, 100, 15)/norm.pdf(100,100,15), color='0.6')\n",
    "    \n",
    "x = np.linspace(40, 160, 120)\n",
    "plt.plot(x, norm.pdf(x, 100, 15))\n",
    "plt.axvline(100, ymin=0.055, ymax=0.95, color='0')\n",
    "plt.axvline(115, ymin=0.055, ymax=0.96*norm.pdf(115, 100, 15)/norm.pdf(100,100,15), color='0')\n",
    "plt.savefig('figure_1.png', dpi=300)\n",
    "plt.show()"
   ]
  },
  {
   "cell_type": "code",
   "execution_count": 36,
   "metadata": {},
   "outputs": [
    {
     "data": {
      "text/plain": [
       "0.3413447460685429"
      ]
     },
     "execution_count": 36,
     "metadata": {},
     "output_type": "execute_result"
    }
   ],
   "source": [
    "# The area of the shaded region between the mean and +1 sigma\n",
    "norm.cdf(115, 100, 15) - norm.cdf(100, 100, 15)"
   ]
  },
  {
   "cell_type": "markdown",
   "metadata": {},
   "source": [
    "## High Resolution Search"
   ]
  },
  {
   "cell_type": "code",
   "execution_count": 37,
   "metadata": {},
   "outputs": [],
   "source": [
    "# Boundary and step variables that can be manipulated\n",
    "mean_lbound = 368\n",
    "mean_ubound = 372\n",
    "mean_steps = 1000\n",
    "\n",
    "sd_lbound = 31\n",
    "sd_ubound = 35\n",
    "sd_steps = 1000"
   ]
  },
  {
   "cell_type": "code",
   "execution_count": 38,
   "metadata": {},
   "outputs": [],
   "source": [
    "# High Resolution Search\n",
    "def hi_res_search_for_mean_and_SD(a, F_a, b, F_b, progress_meter=0):\n",
    "    if (progress_meter):\n",
    "        print_hi_res_search_params()\n",
    "    \n",
    "    # Initial state of having not found the mean and sd that  \n",
    "    # A) has the closest match of F_a and CDF(mean, sd, a), and then\n",
    "    # B) produces the closest match between F_b and CDF(mean, sd, b)\n",
    "    best_mean_found = 0\n",
    "    best_sd_found = 0\n",
    "    best_precision_found = 1\n",
    "\n",
    "    # Loop through a range of candidate mean values\n",
    "    for mean_step in range(mean_lbound*mean_steps, mean_ubound*mean_steps+1):\n",
    "        mean = mean_step / mean_steps\n",
    "        \n",
    "        if (progress_meter > 0):\n",
    "            if (mean_step % (mean_steps/progress_meter) == 0):\n",
    "                print(\"Mean=\", mean)\n",
    "        \n",
    "        # Find the SD that minimizes the difference between F_a and CDF(mean, SD, a)\n",
    "        best_sd = sd_lbound - 1\n",
    "        for sd_step in range(sd_lbound*sd_steps, sd_ubound*sd_steps+1):\n",
    "            sd = sd_step / sd_steps\n",
    "            \n",
    "            if (abs(CDF(a, mean, sd) - F_a) < abs(CDF(a, mean, best_sd) - F_a)):\n",
    "                best_sd = sd\n",
    "                \n",
    "        # And then remember the one that also minmizes the difference between F_b and CDF(mean, SD, b)\n",
    "        if (abs(CDF(b, mean, best_sd) - F_b) < abs(best_precision_found)):\n",
    "            best_precision_found = CDF(b, mean, best_sd) - F_b\n",
    "            best_mean_found = mean\n",
    "            best_sd_found = best_sd\n",
    "    \n",
    "    # Print what we found\n",
    "    return [best_mean_found, best_sd_found]\n",
    "\n",
    "def print_hi_res_search_params():\n",
    "    print(\"High resolution search params:\")\n",
    "    print(\"mean lbound=\", mean_lbound)\n",
    "    print(\"mean ubound=\", mean_ubound)\n",
    "    print(\"mean steps=\", mean_steps)\n",
    "    print(\"sd lbound=\", sd_lbound)\n",
    "    print(\"sd ubound=\", sd_ubound)\n",
    "    print(\"sd steps=\", sd_steps)\n",
    "\n",
    "# Optimized CDF function\n",
    "def CDF(x, mean, stddev):\n",
    "    \"\"\"Computes cumulative distribution function (CDF), which is the\n",
    "       percentile or area under the normal curve from -infinity to x\n",
    "       For single number inputs only, but it runs a little faster than \n",
    "       100 times faster than norm.cdf(x, mean, stddev)\n",
    "    \"\"\"\n",
    "    return 0.5 * (1 + erf((x - mean)/sqrt(2 * stddev**2)))"
   ]
  },
  {
   "cell_type": "code",
   "execution_count": 39,
   "metadata": {},
   "outputs": [
    {
     "name": "stdout",
     "output_type": "stream",
     "text": [
      "High resolution search params:\n",
      "mean lbound= 368\n",
      "mean ubound= 372\n",
      "mean steps= 1000\n",
      "sd lbound= 31\n",
      "sd ubound= 35\n",
      "sd steps= 1000\n",
      "Mean= 368.0\n",
      "Mean= 368.1\n",
      "Mean= 368.2\n",
      "Mean= 368.3\n",
      "Mean= 368.4\n",
      "Mean= 368.5\n",
      "Mean= 368.6\n",
      "Mean= 368.7\n",
      "Mean= 368.8\n",
      "Mean= 368.9\n",
      "Mean= 369.0\n",
      "Mean= 369.1\n",
      "Mean= 369.2\n",
      "Mean= 369.3\n",
      "Mean= 369.4\n",
      "Mean= 369.5\n",
      "Mean= 369.6\n",
      "Mean= 369.7\n",
      "Mean= 369.8\n",
      "Mean= 369.9\n",
      "Mean= 370.0\n",
      "Mean= 370.1\n",
      "Mean= 370.2\n",
      "Mean= 370.3\n",
      "Mean= 370.4\n",
      "Mean= 370.5\n",
      "Mean= 370.6\n",
      "Mean= 370.7\n",
      "Mean= 370.8\n",
      "Mean= 370.9\n",
      "Mean= 371.0\n",
      "Mean= 371.1\n",
      "Mean= 371.2\n",
      "Mean= 371.3\n",
      "Mean= 371.4\n",
      "Mean= 371.5\n",
      "Mean= 371.6\n",
      "Mean= 371.7\n",
      "Mean= 371.8\n",
      "Mean= 371.9\n",
      "Mean= 372.0\n"
     ]
    }
   ],
   "source": [
    "results = hi_res_search_for_mean_and_SD(455, 0.995, 472, 0.999, 10)"
   ]
  },
  {
   "cell_type": "code",
   "execution_count": 40,
   "metadata": {},
   "outputs": [
    {
     "name": "stdout",
     "output_type": "stream",
     "text": [
      "Best match mean= 369.874 and SD= 33.048\n",
      "Precision on lower bound=  2.985619196316236e-09\n",
      "Precision on upper bound=  2.7975188832130016e-10\n"
     ]
    }
   ],
   "source": [
    "print_results(results, 455, 0.995, 472, 0.999)"
   ]
  },
  {
   "cell_type": "markdown",
   "metadata": {},
   "source": [
    "### Prometheus Bound"
   ]
  },
  {
   "cell_type": "code",
   "execution_count": 41,
   "metadata": {},
   "outputs": [
    {
     "data": {
      "text/plain": [
       "0.9999680604162706"
      ]
     },
     "execution_count": 41,
     "metadata": {},
     "output_type": "execute_result"
    }
   ],
   "source": [
    "CDF(502, 369.874, 33.048)"
   ]
  },
  {
   "cell_type": "code",
   "execution_count": 42,
   "metadata": {},
   "outputs": [
    {
     "data": {
      "text/plain": [
       "0.9999683287581669"
      ]
     },
     "execution_count": 42,
     "metadata": {},
     "output_type": "execute_result"
    }
   ],
   "source": [
    "CDF(160, 100, 15)"
   ]
  },
  {
   "cell_type": "code",
   "execution_count": 43,
   "metadata": {},
   "outputs": [
    {
     "data": {
      "text/plain": [
       "2.683418962590167e-07"
      ]
     },
     "execution_count": 43,
     "metadata": {},
     "output_type": "execute_result"
    }
   ],
   "source": [
    "abs(CDF(502, 370, 33) - CDF(502, 369.874, 33.048))"
   ]
  },
  {
   "cell_type": "markdown",
   "metadata": {},
   "source": [
    "### ISPE/TNS/OATHS\n",
    "F_b for b=472"
   ]
  },
  {
   "cell_type": "code",
   "execution_count": 44,
   "metadata": {},
   "outputs": [
    {
     "data": {
      "text/plain": [
       "0.9990000002797519"
      ]
     },
     "execution_count": 44,
     "metadata": {},
     "output_type": "execute_result"
    }
   ],
   "source": [
    "CDF(472, 369.874, 33.048)"
   ]
  },
  {
   "cell_type": "markdown",
   "metadata": {},
   "source": [
    "### Colloquy\n",
    "F_a for a=455"
   ]
  },
  {
   "cell_type": "code",
   "execution_count": 45,
   "metadata": {},
   "outputs": [
    {
     "data": {
      "text/plain": [
       "0.9949999970143808"
      ]
     },
     "execution_count": 45,
     "metadata": {},
     "output_type": "execute_result"
    }
   ],
   "source": [
    "CDF(455, 369.874, 33.048)"
   ]
  },
  {
   "cell_type": "markdown",
   "metadata": {},
   "source": [
    "### Mensa\n",
    "3 scores for 95th percentile on MAT as reported in the 2017-18 Pearson report\n",
    "\n",
    "98th percentile / 130 IQ"
   ]
  },
  {
   "cell_type": "code",
   "execution_count": 46,
   "metadata": {},
   "outputs": [
    {
     "data": {
      "text/plain": [
       "array([0.97729883, 0.97888096, 0.98036878])"
      ]
     },
     "execution_count": 46,
     "metadata": {},
     "output_type": "execute_result"
    }
   ],
   "source": [
    "norm.cdf([436, 437, 438], 369.874, 33.048)"
   ]
  },
  {
   "cell_type": "code",
   "execution_count": 47,
   "metadata": {},
   "outputs": [
    {
     "data": {
      "text/plain": [
       "0.9772498680518208"
      ]
     },
     "execution_count": 47,
     "metadata": {},
     "output_type": "execute_result"
    }
   ],
   "source": [
    "norm.cdf(130, 100, 15)"
   ]
  },
  {
   "cell_type": "markdown",
   "metadata": {},
   "source": [
    "### Intertel\n",
    "99th percentile / 135 IQ"
   ]
  },
  {
   "cell_type": "code",
   "execution_count": 48,
   "metadata": {},
   "outputs": [
    {
     "data": {
      "text/plain": [
       "0.9901846713713547"
      ]
     },
     "execution_count": 48,
     "metadata": {},
     "output_type": "execute_result"
    }
   ],
   "source": [
    "norm.cdf(135, 100, 15)"
   ]
  },
  {
   "cell_type": "code",
   "execution_count": 49,
   "metadata": {},
   "outputs": [
    {
     "data": {
      "text/plain": [
       "0.9901957741630776"
      ]
     },
     "execution_count": 49,
     "metadata": {},
     "output_type": "execute_result"
    }
   ],
   "source": [
    "norm.cdf(447, 369.874, 33.048)"
   ]
  },
  {
   "cell_type": "markdown",
   "metadata": {},
   "source": [
    "### IIS\n",
    "99.63rd percentile / 140 IQ"
   ]
  },
  {
   "cell_type": "code",
   "execution_count": 50,
   "metadata": {},
   "outputs": [
    {
     "data": {
      "text/plain": [
       "0.9961696194324102"
      ]
     },
     "execution_count": 50,
     "metadata": {},
     "output_type": "execute_result"
    }
   ],
   "source": [
    "norm.cdf(140, 100, 15)"
   ]
  },
  {
   "cell_type": "code",
   "execution_count": 51,
   "metadata": {},
   "outputs": [
    {
     "data": {
      "text/plain": [
       "array([0.99616893, 0.99650022])"
      ]
     },
     "execution_count": 51,
     "metadata": {},
     "output_type": "execute_result"
    }
   ],
   "source": [
    "norm.cdf([458, 459], 369.874, 33.048)"
   ]
  },
  {
   "cell_type": "code",
   "execution_count": 52,
   "metadata": {},
   "outputs": [
    {
     "data": {
      "text/plain": [
       "6.897183257859041e-07"
      ]
     },
     "execution_count": 52,
     "metadata": {},
     "output_type": "execute_result"
    }
   ],
   "source": [
    "norm.cdf(140, 100, 15) - norm.cdf(458, 369.874, 33.048)"
   ]
  },
  {
   "cell_type": "markdown",
   "metadata": {},
   "source": [
    "### ePiq\n",
    "99.8th percentile / 143 IQ"
   ]
  },
  {
   "cell_type": "code",
   "execution_count": 53,
   "metadata": {},
   "outputs": [
    {
     "data": {
      "text/plain": [
       "0.9979259016364059"
      ]
     },
     "execution_count": 53,
     "metadata": {},
     "output_type": "execute_result"
    }
   ],
   "source": [
    "norm.cdf(143, 100, 15)"
   ]
  },
  {
   "cell_type": "code",
   "execution_count": 54,
   "metadata": {},
   "outputs": [
    {
     "data": {
      "text/plain": [
       "0.9980016321840026"
      ]
     },
     "execution_count": 54,
     "metadata": {},
     "output_type": "execute_result"
    }
   ],
   "source": [
    "norm.cdf(465, 369.874, 33.048)"
   ]
  },
  {
   "cell_type": "markdown",
   "metadata": {},
   "source": [
    "## Estimates of Mean and SD for Population of Grad School Applicants"
   ]
  },
  {
   "cell_type": "code",
   "execution_count": 55,
   "metadata": {},
   "outputs": [
    {
     "data": {
      "text/plain": [
       "array([0.81834893, 0.95220965, 0.99232982, 0.99926823, 0.99995916])"
      ]
     },
     "execution_count": 55,
     "metadata": {},
     "output_type": "execute_result"
    }
   ],
   "source": [
    "norm.cdf([400, 425, 450, 475, 500], 370, 33)"
   ]
  },
  {
   "cell_type": "code",
   "execution_count": 56,
   "metadata": {},
   "outputs": [
    {
     "data": {
      "text/plain": [
       "array([0.81834893, 0.95220965, 0.99232982, 0.99926823, 0.99995916])"
      ]
     },
     "execution_count": 56,
     "metadata": {},
     "output_type": "execute_result"
    }
   ],
   "source": [
    "norm.cdf([113.63636363, 125, 136.36363636, 147.72727272, 159.09090909], 100, 15)"
   ]
  },
  {
   "cell_type": "code",
   "execution_count": 57,
   "metadata": {},
   "outputs": [
    {
     "data": {
      "text/plain": [
       "[11.363636369999995,\n",
       " 11.363636359999987,\n",
       " 11.363636719999988,\n",
       " 11.363636369999995]"
      ]
     },
     "execution_count": 57,
     "metadata": {},
     "output_type": "execute_result"
    }
   ],
   "source": [
    "[125-113.63636363, 136.36363636-125, 147.72727272-136.363636, 159.09090909-147.72727272]"
   ]
  }
 ],
 "metadata": {
  "kernelspec": {
   "display_name": "Python 3",
   "language": "python",
   "name": "python3"
  },
  "language_info": {
   "codemirror_mode": {
    "name": "ipython",
    "version": 3
   },
   "file_extension": ".py",
   "mimetype": "text/x-python",
   "name": "python",
   "nbconvert_exporter": "python",
   "pygments_lexer": "ipython3",
   "version": "3.6.5"
  }
 },
 "nbformat": 4,
 "nbformat_minor": 2
}
